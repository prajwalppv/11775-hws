{
 "cells": [
  {
   "cell_type": "code",
   "execution_count": 3,
   "metadata": {},
   "outputs": [],
   "source": [
    "#!/usr/bin/env python3\n",
    "\n",
    "import os\n",
    "import sys\n",
    "import threading\n",
    "import cv2\n",
    "import numpy as np\n",
    "import yaml\n",
    "import pickle as pkl\n",
    "import pdb\n",
    "from tqdm import tqdm\n",
    "from joblib import Parallel,delayed\n",
    "\n",
    "def get_surf_features_from_video(surf,video_name,keyframe_interval):\n",
    "    \"Receives filename of downsampled video and of output path for features. Extracts features in the given keyframe_interval. Saves features in pickled file.\"\n",
    "    # TODO\n",
    "    downsampled_video_filename = os.path.join(downsampled_videos, video_name + '.mp4')\n",
    "#         print(downsampled_video_filename)\n",
    "    surf_feat_video_filename = os.path.join(surf_features_folderpath, video_name + '.surf')\n",
    "    frames = get_keyframes(downsampled_video_filename,keyframe_interval)\n",
    "    features = []\n",
    "    max_len = 0\n",
    "    for keyframe in frames:\n",
    "        key, des = surf.detectAndCompute(keyframe,None)\n",
    "        features.append(des)\n",
    "\n",
    "    with open(surf_feat_video_filename,\"wb\") as o:\n",
    "        pkl.dump(features,o)\n",
    "        \n",
    "\n",
    "def get_keyframes(downsampled_video_filename, keyframe_interval):\n",
    "    \"Generator function which returns the next keyframe.\"\n",
    "\n",
    "    # Create video capture object\n",
    "    video_cap = cv2.VideoCapture(downsampled_video_filename)\n",
    "    frame = 0\n",
    "    while True:\n",
    "        frame += 1\n",
    "        ret, img = video_cap.read()\n",
    "        if ret is False:\n",
    "            break\n",
    "        if frame % keyframe_interval == 0:\n",
    "            yield img\n",
    "    video_cap.release()"
   ]
  },
  {
   "cell_type": "code",
   "execution_count": 4,
   "metadata": {},
   "outputs": [
    {
     "name": "stdout",
     "output_type": "stream",
     "text": [
      "Beginning SURF extraction\n"
     ]
    },
    {
     "ename": "AttributeError",
     "evalue": "module 'cv2' has no attribute 'SURF'",
     "output_type": "error",
     "traceback": [
      "\u001b[0;31m---------------------------------------------------------------------------\u001b[0m",
      "\u001b[0;31mAttributeError\u001b[0m                            Traceback (most recent call last)",
      "\u001b[0;32m<ipython-input-4-0281882921ec>\u001b[0m in \u001b[0;36m<module>\u001b[0;34m\u001b[0m\n\u001b[1;32m     12\u001b[0m \u001b[0;34m\u001b[0m\u001b[0m\n\u001b[1;32m     13\u001b[0m \u001b[0;31m# TODO: Create SURF object\u001b[0m\u001b[0;34m\u001b[0m\u001b[0;34m\u001b[0m\u001b[0;34m\u001b[0m\u001b[0m\n\u001b[0;32m---> 14\u001b[0;31m \u001b[0msurf\u001b[0m \u001b[0;34m=\u001b[0m \u001b[0mcv2\u001b[0m\u001b[0;34m.\u001b[0m\u001b[0mSURF\u001b[0m\u001b[0;34m(\u001b[0m\u001b[0mhessian_threshold\u001b[0m\u001b[0;34m)\u001b[0m\u001b[0;34m\u001b[0m\u001b[0;34m\u001b[0m\u001b[0m\n\u001b[0m\u001b[1;32m     15\u001b[0m \u001b[0;34m\u001b[0m\u001b[0m\n\u001b[1;32m     16\u001b[0m \u001b[0;31m# Check if folder for SURF features exists\u001b[0m\u001b[0;34m\u001b[0m\u001b[0;34m\u001b[0m\u001b[0;34m\u001b[0m\u001b[0m\n",
      "\u001b[0;31mAttributeError\u001b[0m: module 'cv2' has no attribute 'SURF'"
     ]
    }
   ],
   "source": [
    "print(\"Beginning SURF extraction\")\n",
    "\n",
    "all_video_names = \"list/all.video\"\n",
    "config_file = \"config.yaml\"\n",
    "my_params = yaml.load(open(config_file))\n",
    "\n",
    "# Get parameters from config file\n",
    "keyframe_interval = my_params.get('keyframe_interval')\n",
    "hessian_threshold = my_params.get('hessian_threshold')\n",
    "surf_features_folderpath = my_params.get('surf_features')\n",
    "downsampled_videos = my_params.get('downsampled_videos')\n",
    "\n",
    "# TODO: Create SURF object\n",
    "surf = cv2.SURF(hessian_threshold)\n",
    "\n",
    "# Check if folder for SURF features exists\n",
    "if not os.path.exists(surf_features_folderpath):\n",
    "    os.mkdir(surf_features_folderpath)\n",
    "\n",
    "# Loop over all videos (training, val, testing)\n",
    "# TODO: get SURF features for all videos but only from keyframes\n",
    "\n",
    "fread = open(all_video_names, \"r\")\n",
    "\n",
    "# for line in tqdm(fread.readlines()):\n",
    "#     video_name = line.replace('\\n', '')\n",
    "\n",
    "#     downsampled_video_filename = os.path.join(downsampled_videos, video_name + '.mp4')\n",
    "# #         print(downsampled_video_filename)\n",
    "#     surf_feat_video_filename = os.path.join(surf_features_folderpath, video_name + '.surf')\n",
    "\n",
    "#     if not os.path.isfile(downsampled_video_filename):\n",
    "# #             print(\"here\")\n",
    "#         continue\n",
    "\n",
    "#     # Get SURF features for one video\n",
    "#     get_surf_features_from_video(surf,downsampled_video_filename,\n",
    "#                                  surf_feat_video_filename, keyframe_interval)"
   ]
  },
  {
   "cell_type": "code",
   "execution_count": 2,
   "metadata": {},
   "outputs": [
    {
     "ename": "NameError",
     "evalue": "name 'Parallel' is not defined",
     "output_type": "error",
     "traceback": [
      "\u001b[0;31m---------------------------------------------------------------------------\u001b[0m",
      "\u001b[0;31mNameError\u001b[0m                                 Traceback (most recent call last)",
      "\u001b[0;32m<ipython-input-2-12126860ab76>\u001b[0m in \u001b[0;36m<module>\u001b[0;34m\u001b[0m\n\u001b[0;32m----> 1\u001b[0;31m \u001b[0;32mwith\u001b[0m \u001b[0mParallel\u001b[0m\u001b[0;34m(\u001b[0m\u001b[0mn_jobs\u001b[0m\u001b[0;34m=\u001b[0m\u001b[0;36m4\u001b[0m\u001b[0;34m)\u001b[0m \u001b[0;32mas\u001b[0m \u001b[0mparallel\u001b[0m\u001b[0;34m:\u001b[0m\u001b[0;34m\u001b[0m\u001b[0;34m\u001b[0m\u001b[0m\n\u001b[0m\u001b[1;32m      2\u001b[0m     \u001b[0mres\u001b[0m \u001b[0;34m=\u001b[0m \u001b[0mparallel\u001b[0m\u001b[0;34m(\u001b[0m\u001b[0mdelayed\u001b[0m\u001b[0;34m(\u001b[0m\u001b[0mget_surf_features_from_video\u001b[0m\u001b[0;34m)\u001b[0m\u001b[0;34m(\u001b[0m\u001b[0msurf\u001b[0m\u001b[0;34m,\u001b[0m\u001b[0mvideo_name\u001b[0m\u001b[0;34m,\u001b[0m\u001b[0mkeyframe_interval\u001b[0m\u001b[0;34m)\u001b[0m \u001b[0;32mfor\u001b[0m \u001b[0mvideo_name\u001b[0m \u001b[0;32min\u001b[0m \u001b[0mtqdm\u001b[0m\u001b[0;34m(\u001b[0m\u001b[0mfread\u001b[0m\u001b[0;34m.\u001b[0m\u001b[0mreadlines\u001b[0m\u001b[0;34m(\u001b[0m\u001b[0;34m)\u001b[0m\u001b[0;34m)\u001b[0m\u001b[0;34m)\u001b[0m\u001b[0;34m\u001b[0m\u001b[0;34m\u001b[0m\u001b[0m\n",
      "\u001b[0;31mNameError\u001b[0m: name 'Parallel' is not defined"
     ]
    }
   ],
   "source": [
    "with Parallel(n_jobs=4) as parallel:\n",
    "    res = parallel(delayed(get_surf_features_from_video)(surf,video_name,keyframe_interval) for video_name in tqdm(fread.readlines()))"
   ]
  },
  {
   "cell_type": "code",
   "execution_count": null,
   "metadata": {},
   "outputs": [],
   "source": []
  }
 ],
 "metadata": {
  "kernelspec": {
   "display_name": "Python 3",
   "language": "python",
   "name": "python3"
  },
  "language_info": {
   "codemirror_mode": {
    "name": "ipython",
    "version": 3
   },
   "file_extension": ".py",
   "mimetype": "text/x-python",
   "name": "python",
   "nbconvert_exporter": "python",
   "pygments_lexer": "ipython3",
   "version": "3.7.1"
  }
 },
 "nbformat": 4,
 "nbformat_minor": 2
}
